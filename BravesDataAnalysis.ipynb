{
 "cells": [
  {
   "cell_type": "markdown",
   "metadata": {},
   "source": [
    "# Braves Data Analysis w/ chatGPT help :)\n",
    "\n",
    "## First - I needed to install necessary packages not delivered in jupyter out of the box"
   ]
  },
  {
   "cell_type": "code",
   "execution_count": 2,
   "metadata": {},
   "outputs": [],
   "source": [
    "#pip install seaborn"
   ]
  },
  {
   "cell_type": "markdown",
   "metadata": {},
   "source": [
    "## 2nd - We need to import most necessary libraries "
   ]
  },
  {
   "cell_type": "code",
   "execution_count": 3,
   "metadata": {},
   "outputs": [],
   "source": [
    "# second we need to import most necessary libraries \n",
    "import pandas as pd \n",
    "import matplotlib.pyplot as plt\n",
    "import seaborn as sns"
   ]
  },
  {
   "cell_type": "markdown",
   "metadata": {},
   "source": [
    "## 3rd - we need to load the subject data from csv file \n"
   ]
  },
  {
   "cell_type": "code",
   "execution_count": 4,
   "metadata": {},
   "outputs": [],
   "source": [
    "data = pd.read_csv('https://raw.githubusercontent.com/seanlahman/baseballdatabank/master/core/Teams.csv')"
   ]
  },
  {
   "cell_type": "markdown",
   "metadata": {},
   "source": [
    "## 4th - Now we can explore the data\n"
   ]
  },
  {
   "cell_type": "code",
   "execution_count": 5,
   "metadata": {},
   "outputs": [],
   "source": [
    "# print(data.head(5))\n",
    "# print(\"\\n\\n\\n\\n\\n\")\n",
    "# print(\"Here is the data column names: \")\n",
    "# columns = data.columns\n",
    "# for column in columns:\n",
    "#     print(column)\n",
    "# print(\"\\n\\n\\n\\n\\n\")\n",
    "# print(\"Here is the data info now...\")\n",
    "# print(data.info())"
   ]
  },
  {
   "cell_type": "markdown",
   "metadata": {},
   "source": [
    "## 5th - We can now clean the data some "
   ]
  },
  {
   "cell_type": "code",
   "execution_count": 6,
   "metadata": {},
   "outputs": [
    {
     "name": "stderr",
     "output_type": "stream",
     "text": [
      "<ipython-input-6-7c1653cc715f>:4: SettingWithCopyWarning: \n",
      "A value is trying to be set on a copy of a slice from a DataFrame\n",
      "\n",
      "See the caveats in the documentation: https://pandas.pydata.org/pandas-docs/stable/user_guide/indexing.html#returning-a-view-versus-a-copy\n",
      "  bravesData.dropna(inplace=True)\n"
     ]
    }
   ],
   "source": [
    "# first-we will filter the data to only include the Atlanta Braves\n",
    "bravesData = data[data['teamID']=='ATL']\n",
    "# second-we will remove any rows that have missing values \n",
    "bravesData.dropna(inplace=True)\n",
    "\n",
    "# third we can remove any columns that we do not want\n",
    "bravesData= bravesData.drop(columns=['teamIDretro','teamIDlahman45','teamIDBR','PPF','BPF','franchID','SV','IPouts','FP',\"SHO\",\"DP\",\"CS\",\"SF\",\"CG\"])"
   ]
  },
  {
   "cell_type": "markdown",
   "metadata": {},
   "source": [
    "## 6th - We can now Analyze the data some"
   ]
  },
  {
   "cell_type": "code",
   "execution_count": 7,
   "metadata": {},
   "outputs": [
    {
     "data": {
      "text/html": [
       "<div>\n",
       "<style scoped>\n",
       "    .dataframe tbody tr th:only-of-type {\n",
       "        vertical-align: middle;\n",
       "    }\n",
       "\n",
       "    .dataframe tbody tr th {\n",
       "        vertical-align: top;\n",
       "    }\n",
       "\n",
       "    .dataframe thead th {\n",
       "        text-align: right;\n",
       "    }\n",
       "</style>\n",
       "<table border=\"1\" class=\"dataframe\">\n",
       "  <thead>\n",
       "    <tr style=\"text-align: right;\">\n",
       "      <th></th>\n",
       "      <th>yearID</th>\n",
       "      <th>Rank</th>\n",
       "      <th>G</th>\n",
       "      <th>Ghome</th>\n",
       "      <th>W</th>\n",
       "      <th>L</th>\n",
       "      <th>R</th>\n",
       "      <th>AB</th>\n",
       "      <th>H</th>\n",
       "      <th>2B</th>\n",
       "      <th>...</th>\n",
       "      <th>HBP</th>\n",
       "      <th>RA</th>\n",
       "      <th>ER</th>\n",
       "      <th>ERA</th>\n",
       "      <th>HA</th>\n",
       "      <th>HRA</th>\n",
       "      <th>BBA</th>\n",
       "      <th>SOA</th>\n",
       "      <th>E</th>\n",
       "      <th>attendance</th>\n",
       "    </tr>\n",
       "  </thead>\n",
       "  <tbody>\n",
       "    <tr>\n",
       "      <th>count</th>\n",
       "      <td>17.000000</td>\n",
       "      <td>17.000000</td>\n",
       "      <td>17.000000</td>\n",
       "      <td>17.0</td>\n",
       "      <td>17.000000</td>\n",
       "      <td>17.000000</td>\n",
       "      <td>17.000000</td>\n",
       "      <td>17.000000</td>\n",
       "      <td>17.000000</td>\n",
       "      <td>17.000000</td>\n",
       "      <td>...</td>\n",
       "      <td>17.000000</td>\n",
       "      <td>17.000000</td>\n",
       "      <td>17.000000</td>\n",
       "      <td>17.000000</td>\n",
       "      <td>17.000000</td>\n",
       "      <td>17.000000</td>\n",
       "      <td>17.000000</td>\n",
       "      <td>17.000000</td>\n",
       "      <td>17.000000</td>\n",
       "      <td>1.700000e+01</td>\n",
       "    </tr>\n",
       "    <tr>\n",
       "      <th>mean</th>\n",
       "      <td>2008.000000</td>\n",
       "      <td>2.176471</td>\n",
       "      <td>161.882353</td>\n",
       "      <td>81.0</td>\n",
       "      <td>86.823529</td>\n",
       "      <td>75.000000</td>\n",
       "      <td>731.470588</td>\n",
       "      <td>5522.470588</td>\n",
       "      <td>1440.647059</td>\n",
       "      <td>285.764706</td>\n",
       "      <td>...</td>\n",
       "      <td>48.235294</td>\n",
       "      <td>675.235294</td>\n",
       "      <td>618.235294</td>\n",
       "      <td>3.839412</td>\n",
       "      <td>1401.647059</td>\n",
       "      <td>147.529412</td>\n",
       "      <td>519.294118</td>\n",
       "      <td>1141.529412</td>\n",
       "      <td>102.000000</td>\n",
       "      <td>2.490697e+06</td>\n",
       "    </tr>\n",
       "    <tr>\n",
       "      <th>std</th>\n",
       "      <td>5.049752</td>\n",
       "      <td>1.286239</td>\n",
       "      <td>0.332106</td>\n",
       "      <td>0.0</td>\n",
       "      <td>10.666743</td>\n",
       "      <td>10.735455</td>\n",
       "      <td>91.052950</td>\n",
       "      <td>78.814749</td>\n",
       "      <td>83.163950</td>\n",
       "      <td>29.779459</td>\n",
       "      <td>...</td>\n",
       "      <td>8.591634</td>\n",
       "      <td>80.561723</td>\n",
       "      <td>73.638076</td>\n",
       "      <td>0.475729</td>\n",
       "      <td>68.068845</td>\n",
       "      <td>21.219442</td>\n",
       "      <td>44.147147</td>\n",
       "      <td>114.054876</td>\n",
       "      <td>15.202796</td>\n",
       "      <td>2.847316e+05</td>\n",
       "    </tr>\n",
       "    <tr>\n",
       "      <th>min</th>\n",
       "      <td>2000.000000</td>\n",
       "      <td>1.000000</td>\n",
       "      <td>161.000000</td>\n",
       "      <td>81.0</td>\n",
       "      <td>67.000000</td>\n",
       "      <td>59.000000</td>\n",
       "      <td>573.000000</td>\n",
       "      <td>5420.000000</td>\n",
       "      <td>1316.000000</td>\n",
       "      <td>240.000000</td>\n",
       "      <td>...</td>\n",
       "      <td>28.000000</td>\n",
       "      <td>548.000000</td>\n",
       "      <td>511.000000</td>\n",
       "      <td>3.130000</td>\n",
       "      <td>1302.000000</td>\n",
       "      <td>119.000000</td>\n",
       "      <td>409.000000</td>\n",
       "      <td>929.000000</td>\n",
       "      <td>83.000000</td>\n",
       "      <td>2.001392e+06</td>\n",
       "    </tr>\n",
       "    <tr>\n",
       "      <th>25%</th>\n",
       "      <td>2004.000000</td>\n",
       "      <td>1.000000</td>\n",
       "      <td>162.000000</td>\n",
       "      <td>81.0</td>\n",
       "      <td>79.000000</td>\n",
       "      <td>67.000000</td>\n",
       "      <td>688.000000</td>\n",
       "      <td>5468.000000</td>\n",
       "      <td>1361.000000</td>\n",
       "      <td>263.000000</td>\n",
       "      <td>...</td>\n",
       "      <td>44.000000</td>\n",
       "      <td>605.000000</td>\n",
       "      <td>569.000000</td>\n",
       "      <td>3.480000</td>\n",
       "      <td>1332.000000</td>\n",
       "      <td>126.000000</td>\n",
       "      <td>499.000000</td>\n",
       "      <td>1058.000000</td>\n",
       "      <td>86.000000</td>\n",
       "      <td>2.372940e+06</td>\n",
       "    </tr>\n",
       "    <tr>\n",
       "      <th>50%</th>\n",
       "      <td>2008.000000</td>\n",
       "      <td>2.000000</td>\n",
       "      <td>162.000000</td>\n",
       "      <td>81.0</td>\n",
       "      <td>89.000000</td>\n",
       "      <td>73.000000</td>\n",
       "      <td>735.000000</td>\n",
       "      <td>5498.000000</td>\n",
       "      <td>1432.000000</td>\n",
       "      <td>295.000000</td>\n",
       "      <td>...</td>\n",
       "      <td>49.000000</td>\n",
       "      <td>668.000000</td>\n",
       "      <td>603.000000</td>\n",
       "      <td>3.740000</td>\n",
       "      <td>1414.000000</td>\n",
       "      <td>147.000000</td>\n",
       "      <td>523.000000</td>\n",
       "      <td>1133.000000</td>\n",
       "      <td>101.000000</td>\n",
       "      <td>2.510119e+06</td>\n",
       "    </tr>\n",
       "    <tr>\n",
       "      <th>75%</th>\n",
       "      <td>2012.000000</td>\n",
       "      <td>3.000000</td>\n",
       "      <td>162.000000</td>\n",
       "      <td>81.0</td>\n",
       "      <td>95.000000</td>\n",
       "      <td>83.000000</td>\n",
       "      <td>803.000000</td>\n",
       "      <td>5570.000000</td>\n",
       "      <td>1503.000000</td>\n",
       "      <td>312.000000</td>\n",
       "      <td>...</td>\n",
       "      <td>54.000000</td>\n",
       "      <td>740.000000</td>\n",
       "      <td>665.000000</td>\n",
       "      <td>4.110000</td>\n",
       "      <td>1442.000000</td>\n",
       "      <td>165.000000</td>\n",
       "      <td>550.000000</td>\n",
       "      <td>1232.000000</td>\n",
       "      <td>114.000000</td>\n",
       "      <td>2.550524e+06</td>\n",
       "    </tr>\n",
       "    <tr>\n",
       "      <th>max</th>\n",
       "      <td>2016.000000</td>\n",
       "      <td>5.000000</td>\n",
       "      <td>162.000000</td>\n",
       "      <td>81.0</td>\n",
       "      <td>101.000000</td>\n",
       "      <td>95.000000</td>\n",
       "      <td>907.000000</td>\n",
       "      <td>5689.000000</td>\n",
       "      <td>1608.000000</td>\n",
       "      <td>328.000000</td>\n",
       "      <td>...</td>\n",
       "      <td>59.000000</td>\n",
       "      <td>805.000000</td>\n",
       "      <td>736.000000</td>\n",
       "      <td>4.600000</td>\n",
       "      <td>1529.000000</td>\n",
       "      <td>183.000000</td>\n",
       "      <td>586.000000</td>\n",
       "      <td>1332.000000</td>\n",
       "      <td>129.000000</td>\n",
       "      <td>3.234304e+06</td>\n",
       "    </tr>\n",
       "  </tbody>\n",
       "</table>\n",
       "<p>8 rows × 25 columns</p>\n",
       "</div>"
      ],
      "text/plain": [
       "            yearID       Rank           G  Ghome           W          L  \\\n",
       "count    17.000000  17.000000   17.000000   17.0   17.000000  17.000000   \n",
       "mean   2008.000000   2.176471  161.882353   81.0   86.823529  75.000000   \n",
       "std       5.049752   1.286239    0.332106    0.0   10.666743  10.735455   \n",
       "min    2000.000000   1.000000  161.000000   81.0   67.000000  59.000000   \n",
       "25%    2004.000000   1.000000  162.000000   81.0   79.000000  67.000000   \n",
       "50%    2008.000000   2.000000  162.000000   81.0   89.000000  73.000000   \n",
       "75%    2012.000000   3.000000  162.000000   81.0   95.000000  83.000000   \n",
       "max    2016.000000   5.000000  162.000000   81.0  101.000000  95.000000   \n",
       "\n",
       "                R           AB            H          2B  ...        HBP  \\\n",
       "count   17.000000    17.000000    17.000000   17.000000  ...  17.000000   \n",
       "mean   731.470588  5522.470588  1440.647059  285.764706  ...  48.235294   \n",
       "std     91.052950    78.814749    83.163950   29.779459  ...   8.591634   \n",
       "min    573.000000  5420.000000  1316.000000  240.000000  ...  28.000000   \n",
       "25%    688.000000  5468.000000  1361.000000  263.000000  ...  44.000000   \n",
       "50%    735.000000  5498.000000  1432.000000  295.000000  ...  49.000000   \n",
       "75%    803.000000  5570.000000  1503.000000  312.000000  ...  54.000000   \n",
       "max    907.000000  5689.000000  1608.000000  328.000000  ...  59.000000   \n",
       "\n",
       "               RA          ER        ERA           HA         HRA         BBA  \\\n",
       "count   17.000000   17.000000  17.000000    17.000000   17.000000   17.000000   \n",
       "mean   675.235294  618.235294   3.839412  1401.647059  147.529412  519.294118   \n",
       "std     80.561723   73.638076   0.475729    68.068845   21.219442   44.147147   \n",
       "min    548.000000  511.000000   3.130000  1302.000000  119.000000  409.000000   \n",
       "25%    605.000000  569.000000   3.480000  1332.000000  126.000000  499.000000   \n",
       "50%    668.000000  603.000000   3.740000  1414.000000  147.000000  523.000000   \n",
       "75%    740.000000  665.000000   4.110000  1442.000000  165.000000  550.000000   \n",
       "max    805.000000  736.000000   4.600000  1529.000000  183.000000  586.000000   \n",
       "\n",
       "               SOA           E    attendance  \n",
       "count    17.000000   17.000000  1.700000e+01  \n",
       "mean   1141.529412  102.000000  2.490697e+06  \n",
       "std     114.054876   15.202796  2.847316e+05  \n",
       "min     929.000000   83.000000  2.001392e+06  \n",
       "25%    1058.000000   86.000000  2.372940e+06  \n",
       "50%    1133.000000  101.000000  2.510119e+06  \n",
       "75%    1232.000000  114.000000  2.550524e+06  \n",
       "max    1332.000000  129.000000  3.234304e+06  \n",
       "\n",
       "[8 rows x 25 columns]"
      ]
     },
     "execution_count": 7,
     "metadata": {},
     "output_type": "execute_result"
    }
   ],
   "source": [
    "# First we can use describe method\n",
    "bravesData.describe()\n",
    "# for name in bravesData.columns:\n",
    "#     print(name)"
   ]
  },
  {
   "cell_type": "markdown",
   "metadata": {},
   "source": [
    "## 7th - We then can visualize some of the data "
   ]
  },
  {
   "cell_type": "markdown",
   "metadata": {},
   "source": [
    "#### Histograms for Wins|Losses|RunsScored|RunsAllowed"
   ]
  },
  {
   "cell_type": "code",
   "execution_count": 8,
   "metadata": {},
   "outputs": [
    {
     "data": {
      "text/plain": [
       "Text(0.5, 0, 'Wins')"
      ]
     },
     "execution_count": 8,
     "metadata": {},
     "output_type": "execute_result"
    },
    {
     "data": {
      "image/png": "[encoded data removed]",
      "text/plain": [
       "<Figure size 432x288 with 1 Axes>"
      ]
     },
     "metadata": {
      "needs_background": "light"
     },
     "output_type": "display_data"
    }
   ],
   "source": [
    "###WINS\n",
    "graphW = sns.histplot(bravesData['W'],bins=15)\n",
    "plt.title('Distribution of Wins for Atlanta Braves')\n",
    "plt.xlabel(\"Wins\")"
   ]
  },
  {
   "cell_type": "code",
   "execution_count": 9,
   "metadata": {
    "scrolled": true
   },
   "outputs": [
    {
     "data": {
      "text/plain": [
       "Text(0.5, 0, 'Losses')"
      ]
     },
     "execution_count": 9,
     "metadata": {},
     "output_type": "execute_result"
    },
    {
     "data": {
      "image/png": "[encoded data removed]",
      "text/plain": [
       "<Figure size 432x288 with 1 Axes>"
      ]
     },
     "metadata": {
      "needs_background": "light"
     },
     "output_type": "display_data"
    }
   ],
   "source": [
    "### Losses\n",
    "graphL = sns.histplot(bravesData['L'],bins=15)\n",
    "plt.title('Distribution of Losses for Atlanta Braves')\n",
    "plt.xlabel(\"Losses\")"
   ]
  },
  {
   "cell_type": "code",
   "execution_count": 10,
   "metadata": {},
   "outputs": [
    {
     "data": {
      "text/plain": [
       "Text(0.5, 0, 'Runs Allowed')"
      ]
     },
     "execution_count": 10,
     "metadata": {},
     "output_type": "execute_result"
    },
    {
     "data": {
      "image/png": "[encoded data removed]",
      "text/plain": [
       "<Figure size 432x288 with 1 Axes>"
      ]
     },
     "metadata": {
      "needs_background": "light"
     },
     "output_type": "display_data"
    }
   ],
   "source": [
    "### Losses\n",
    "graphL = sns.histplot(bravesData['RA'],bins=15)\n",
    "plt.title('Distribution of Runs Allowed for Atlanta Braves')\n",
    "plt.xlabel(\"Runs Allowed\")"
   ]
  },
  {
   "cell_type": "markdown",
   "metadata": {},
   "source": [
    "#### Line plots for Wins & Losses over the years"
   ]
  },
  {
   "cell_type": "code",
   "execution_count": 11,
   "metadata": {},
   "outputs": [
    {
     "data": {
      "text/plain": [
       "Text(0.5, 1.0, 'WINS Over The Years')"
      ]
     },
     "execution_count": 11,
     "metadata": {},
     "output_type": "execute_result"
    },
    {
     "data": {
      "image/png": "[encoded data removed]",
      "text/plain": [
       "<Figure size 432x288 with 1 Axes>"
      ]
     },
     "metadata": {
      "needs_background": "light"
     },
     "output_type": "display_data"
    }
   ],
   "source": [
    "sns.lineplot(data=bravesData,x='yearID',y=\"W\",label=\"Wins\")\n",
    "plt.title(\"WINS Over The Years\")"
   ]
  },
  {
   "cell_type": "code",
   "execution_count": 12,
   "metadata": {},
   "outputs": [
    {
     "data": {
      "text/plain": [
       "Text(0.5, 1.0, 'LOSSES Over The Years')"
      ]
     },
     "execution_count": 12,
     "metadata": {},
     "output_type": "execute_result"
    },
    {
     "data": {
      "image/png": "[encoded data removed]",
      "text/plain": [
       "<Figure size 432x288 with 1 Axes>"
      ]
     },
     "metadata": {
      "needs_background": "light"
     },
     "output_type": "display_data"
    }
   ],
   "source": [
    "sns.lineplot(data=bravesData,x='yearID',y=\"L\",label=\"Losses\")\n",
    "plt.title(\"LOSSES Over The Years\")"
   ]
  },
  {
   "cell_type": "markdown",
   "metadata": {},
   "source": [
    "#### Scatter plots for Wins & Runs Scored"
   ]
  },
  {
   "cell_type": "code",
   "execution_count": 13,
   "metadata": {},
   "outputs": [
    {
     "data": {
      "text/plain": [
       "Text(0.5, 1.0, 'Wins vs. Runs Scored for Atlanta Braves')"
      ]
     },
     "execution_count": 13,
     "metadata": {},
     "output_type": "execute_result"
    },
    {
     "data": {
      "image/png": "[encoded data removed]",
      "text/plain": [
       "<Figure size 432x288 with 1 Axes>"
      ]
     },
     "metadata": {
      "needs_background": "light"
     },
     "output_type": "display_data"
    }
   ],
   "source": [
    "sns.scatterplot(data=bravesData,x=\"R\",y=\"W\")\n",
    "plt.title(\"Wins vs. Runs Scored for Atlanta Braves\")"
   ]
  },
  {
   "cell_type": "code",
   "execution_count": null,
   "metadata": {},
   "outputs": [],
   "source": []
  },
  {
   "cell_type": "code",
   "execution_count": null,
   "metadata": {},
   "outputs": [],
   "source": []
  },
  {
   "cell_type": "code",
   "execution_count": null,
   "metadata": {},
   "outputs": [],
   "source": []
  }
 ],
 "metadata": {
  "kernelspec": {
   "display_name": "Python 3",
   "language": "python",
   "name": "python3"
  },
  "language_info": {
   "codemirror_mode": {
    "name": "ipython",
    "version": 3
   },
   "file_extension": ".py",
   "mimetype": "text/x-python",
   "name": "python",
   "nbconvert_exporter": "python",
   "pygments_lexer": "ipython3",
   "version": "3.8.5"
  }
 },
 "nbformat": 4,
 "nbformat_minor": 2
}
